{
 "cells": [
  {
   "cell_type": "code",
   "execution_count": 14,
   "metadata": {},
   "outputs": [],
   "source": [
    "import numpy as np\n",
    "#%load_ext cudf.pandas\n",
    "import pandas as pd\n",
    "import random as rand\n",
    "import matplotlib.pyplot as plt"
   ]
  },
  {
   "cell_type": "code",
   "execution_count": 15,
   "metadata": {},
   "outputs": [],
   "source": [
    "f1 = pd.read_csv(r'C:\\Users\\virag\\Documents\\GitHub\\Predictive-Maintenance\\synthetic_cooling+38.csv')    #8 datasets for introducing faults into them\n",
    "f2 = pd.read_csv(r'C:\\Users\\virag\\Documents\\GitHub\\Predictive-Maintenance\\synthetic_cooling+37.csv')\n",
    "f3 = pd.read_csv(r'C:\\Users\\virag\\Documents\\GitHub\\Predictive-Maintenance\\synthetic_cooling+36.csv')\n",
    "f4 = pd.read_csv(r'C:\\Users\\virag\\Documents\\GitHub\\Predictive-Maintenance\\synthetic_cooling+35.csv')\n",
    "f5 = pd.read_csv(r'C:\\Users\\virag\\Documents\\GitHub\\Predictive-Maintenance\\synthetic_cooling+34.csv')\n",
    "f6 = pd.read_csv(r'C:\\Users\\virag\\Documents\\GitHub\\Predictive-Maintenance\\synthetic_cooling+33.csv')\n",
    "f7 = pd.read_csv(r'C:\\Users\\virag\\Documents\\GitHub\\Predictive-Maintenance\\synthetic_cooling+32.csv')\n",
    "f8 = pd.read_csv(r'C:\\Users\\virag\\Documents\\GitHub\\Predictive-Maintenance\\synthetic_cooling+31.csv')"
   ]
  },
  {
   "cell_type": "code",
   "execution_count": 16,
   "metadata": {},
   "outputs": [
    {
     "data": {
      "text/html": [
       "<div>\n",
       "<style scoped>\n",
       "    .dataframe tbody tr th:only-of-type {\n",
       "        vertical-align: middle;\n",
       "    }\n",
       "\n",
       "    .dataframe tbody tr th {\n",
       "        vertical-align: top;\n",
       "    }\n",
       "\n",
       "    .dataframe thead th {\n",
       "        text-align: right;\n",
       "    }\n",
       "</style>\n",
       "<table border=\"1\" class=\"dataframe\">\n",
       "  <thead>\n",
       "    <tr style=\"text-align: right;\">\n",
       "      <th></th>\n",
       "      <th>Unnamed: 0</th>\n",
       "      <th>65262-110</th>\n",
       "      <th>65263-111</th>\n",
       "      <th>64817-1598</th>\n",
       "      <th>example_id</th>\n",
       "    </tr>\n",
       "  </thead>\n",
       "  <tbody>\n",
       "    <tr>\n",
       "      <th>0</th>\n",
       "      <td>0</td>\n",
       "      <td>90.476166</td>\n",
       "      <td>49.987540</td>\n",
       "      <td>4095.9292</td>\n",
       "      <td>0</td>\n",
       "    </tr>\n",
       "    <tr>\n",
       "      <th>1</th>\n",
       "      <td>1</td>\n",
       "      <td>90.475450</td>\n",
       "      <td>49.987514</td>\n",
       "      <td>4095.9272</td>\n",
       "      <td>0</td>\n",
       "    </tr>\n",
       "    <tr>\n",
       "      <th>2</th>\n",
       "      <td>2</td>\n",
       "      <td>90.475420</td>\n",
       "      <td>49.987514</td>\n",
       "      <td>4095.9272</td>\n",
       "      <td>0</td>\n",
       "    </tr>\n",
       "    <tr>\n",
       "      <th>3</th>\n",
       "      <td>3</td>\n",
       "      <td>90.475420</td>\n",
       "      <td>49.987514</td>\n",
       "      <td>4095.9272</td>\n",
       "      <td>0</td>\n",
       "    </tr>\n",
       "    <tr>\n",
       "      <th>4</th>\n",
       "      <td>4</td>\n",
       "      <td>90.475420</td>\n",
       "      <td>49.987514</td>\n",
       "      <td>4095.9272</td>\n",
       "      <td>0</td>\n",
       "    </tr>\n",
       "  </tbody>\n",
       "</table>\n",
       "</div>"
      ],
      "text/plain": [
       "   Unnamed: 0  65262-110  65263-111  64817-1598  example_id\n",
       "0           0  90.476166  49.987540   4095.9292           0\n",
       "1           1  90.475450  49.987514   4095.9272           0\n",
       "2           2  90.475420  49.987514   4095.9272           0\n",
       "3           3  90.475420  49.987514   4095.9272           0\n",
       "4           4  90.475420  49.987514   4095.9272           0"
      ]
     },
     "execution_count": 16,
     "metadata": {},
     "output_type": "execute_result"
    }
   ],
   "source": [
    "f2.head()"
   ]
  },
  {
   "cell_type": "markdown",
   "metadata": {},
   "source": [
    "Making sure that the synthetic data meets the data ranges."
   ]
  },
  {
   "cell_type": "code",
   "execution_count": 17,
   "metadata": {},
   "outputs": [],
   "source": [
    "dsets = [f1, f2, f3, f4, f5, f6, f7, f8]\n",
    "for item in dsets:\n",
    "    item.drop(['Unnamed: 0', 'example_id'], axis=1, inplace=True)\n",
    "for item in dsets:\n",
    "    for index,rows in item.iterrows():\n",
    "        if(rows[0] < -40):\n",
    "            rows[0] = -40\n",
    "        elif(rows[0] > 210):\n",
    "            rows[0] = 210\n",
    "        if(rows[1] < 0):\n",
    "            rows[1] = 0\n",
    "        elif(rows[1]>100):\n",
    "            rows[1] = 100\n",
    "        if(rows[2] < 0):\n",
    "            rows[2] = 0\n",
    "        elif(rows[2] > 8031.875):\n",
    "            rows[2] = 8031.875\n"
   ]
  },
  {
   "cell_type": "code",
   "execution_count": 18,
   "metadata": {},
   "outputs": [
    {
     "data": {
      "text/html": [
       "<div>\n",
       "<style scoped>\n",
       "    .dataframe tbody tr th:only-of-type {\n",
       "        vertical-align: middle;\n",
       "    }\n",
       "\n",
       "    .dataframe tbody tr th {\n",
       "        vertical-align: top;\n",
       "    }\n",
       "\n",
       "    .dataframe thead th {\n",
       "        text-align: right;\n",
       "    }\n",
       "</style>\n",
       "<table border=\"1\" class=\"dataframe\">\n",
       "  <thead>\n",
       "    <tr style=\"text-align: right;\">\n",
       "      <th></th>\n",
       "      <th>65262-110</th>\n",
       "      <th>65263-111</th>\n",
       "      <th>64817-1598</th>\n",
       "    </tr>\n",
       "  </thead>\n",
       "  <tbody>\n",
       "    <tr>\n",
       "      <th>count</th>\n",
       "      <td>92544.000000</td>\n",
       "      <td>92544.000000</td>\n",
       "      <td>92544.000000</td>\n",
       "    </tr>\n",
       "    <tr>\n",
       "      <th>mean</th>\n",
       "      <td>90.923547</td>\n",
       "      <td>49.801579</td>\n",
       "      <td>4095.610649</td>\n",
       "    </tr>\n",
       "    <tr>\n",
       "      <th>std</th>\n",
       "      <td>1.521882</td>\n",
       "      <td>0.377262</td>\n",
       "      <td>0.555098</td>\n",
       "    </tr>\n",
       "    <tr>\n",
       "      <th>min</th>\n",
       "      <td>82.348450</td>\n",
       "      <td>46.243210</td>\n",
       "      <td>4090.318600</td>\n",
       "    </tr>\n",
       "    <tr>\n",
       "      <th>25%</th>\n",
       "      <td>89.864760</td>\n",
       "      <td>49.765972</td>\n",
       "      <td>4095.458300</td>\n",
       "    </tr>\n",
       "    <tr>\n",
       "      <th>50%</th>\n",
       "      <td>90.818970</td>\n",
       "      <td>49.994534</td>\n",
       "      <td>4095.831000</td>\n",
       "    </tr>\n",
       "    <tr>\n",
       "      <th>75%</th>\n",
       "      <td>91.912704</td>\n",
       "      <td>49.999996</td>\n",
       "      <td>4095.964800</td>\n",
       "    </tr>\n",
       "    <tr>\n",
       "      <th>max</th>\n",
       "      <td>95.330050</td>\n",
       "      <td>50.000000</td>\n",
       "      <td>4096.000000</td>\n",
       "    </tr>\n",
       "  </tbody>\n",
       "</table>\n",
       "</div>"
      ],
      "text/plain": [
       "          65262-110     65263-111    64817-1598\n",
       "count  92544.000000  92544.000000  92544.000000\n",
       "mean      90.923547     49.801579   4095.610649\n",
       "std        1.521882      0.377262      0.555098\n",
       "min       82.348450     46.243210   4090.318600\n",
       "25%       89.864760     49.765972   4095.458300\n",
       "50%       90.818970     49.994534   4095.831000\n",
       "75%       91.912704     49.999996   4095.964800\n",
       "max       95.330050     50.000000   4096.000000"
      ]
     },
     "execution_count": 18,
     "metadata": {},
     "output_type": "execute_result"
    }
   ],
   "source": [
    "f1.describe()"
   ]
  },
  {
   "cell_type": "markdown",
   "metadata": {},
   "source": [
    "Below is the first Category of fault"
   ]
  },
  {
   "cell_type": "code",
   "execution_count": null,
   "metadata": {},
   "outputs": [],
   "source": []
  }
 ],
 "metadata": {
  "kernelspec": {
   "display_name": "Python 3",
   "language": "python",
   "name": "python3"
  },
  "language_info": {
   "codemirror_mode": {
    "name": "ipython",
    "version": 3
   },
   "file_extension": ".py",
   "mimetype": "text/x-python",
   "name": "python",
   "nbconvert_exporter": "python",
   "pygments_lexer": "ipython3",
   "version": "3.8.10"
  }
 },
 "nbformat": 4,
 "nbformat_minor": 2
}
