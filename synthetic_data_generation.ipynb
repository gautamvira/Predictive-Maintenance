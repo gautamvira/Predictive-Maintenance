{
 "cells": [
  {
   "cell_type": "code",
   "execution_count": 1,
   "metadata": {},
   "outputs": [],
   "source": [
    "import numpy as np\n",
    "import pandas as pd\n",
    "import random as rand\n",
    "from gretel_synthetics.timeseries_dgan.dgan import DGAN\n",
    "from gretel_synthetics.timeseries_dgan.config import DGANConfig, OutputType, Normalization"
   ]
  },
  {
   "cell_type": "code",
   "execution_count": 2,
   "metadata": {},
   "outputs": [],
   "source": [
    "df1 = pd.read_csv('one_more.csv')"
   ]
  },
  {
   "cell_type": "code",
   "execution_count": 3,
   "metadata": {},
   "outputs": [
    {
     "data": {
      "text/plain": [
       "(37661705, 4)"
      ]
     },
     "execution_count": 3,
     "metadata": {},
     "output_type": "execute_result"
    }
   ],
   "source": [
    "df1.shape"
   ]
  },
  {
   "cell_type": "code",
   "execution_count": 4,
   "metadata": {},
   "outputs": [],
   "source": [
    "#df = pd.DataFrame(columns=['','pgn','spn','decodedValue'])\n",
    "df = df1.sample(frac=0.1, replace=False)"
   ]
  },
  {
   "cell_type": "code",
   "execution_count": 5,
   "metadata": {},
   "outputs": [
    {
     "data": {
      "text/html": [
       "<div>\n",
       "<style scoped>\n",
       "    .dataframe tbody tr th:only-of-type {\n",
       "        vertical-align: middle;\n",
       "    }\n",
       "\n",
       "    .dataframe tbody tr th {\n",
       "        vertical-align: top;\n",
       "    }\n",
       "\n",
       "    .dataframe thead th {\n",
       "        text-align: right;\n",
       "    }\n",
       "</style>\n",
       "<table border=\"1\" class=\"dataframe\">\n",
       "  <thead>\n",
       "    <tr style=\"text-align: right;\">\n",
       "      <th></th>\n",
       "      <th>Unnamed: 0</th>\n",
       "      <th>pgn</th>\n",
       "      <th>spn</th>\n",
       "      <th>decodedValue</th>\n",
       "    </tr>\n",
       "  </thead>\n",
       "  <tbody>\n",
       "    <tr>\n",
       "      <th>15327501</th>\n",
       "      <td>41235569</td>\n",
       "      <td>65266</td>\n",
       "      <td>51</td>\n",
       "      <td>90.0</td>\n",
       "    </tr>\n",
       "    <tr>\n",
       "      <th>18129761</th>\n",
       "      <td>48487390</td>\n",
       "      <td>61443</td>\n",
       "      <td>559</td>\n",
       "      <td>1.0</td>\n",
       "    </tr>\n",
       "    <tr>\n",
       "      <th>35930507</th>\n",
       "      <td>96488803</td>\n",
       "      <td>65247</td>\n",
       "      <td>515</td>\n",
       "      <td>5125.0</td>\n",
       "    </tr>\n",
       "    <tr>\n",
       "      <th>1904430</th>\n",
       "      <td>5859064</td>\n",
       "      <td>61443</td>\n",
       "      <td>5398</td>\n",
       "      <td>6.0</td>\n",
       "    </tr>\n",
       "    <tr>\n",
       "      <th>8765723</th>\n",
       "      <td>23595728</td>\n",
       "      <td>61444</td>\n",
       "      <td>4154</td>\n",
       "      <td>0.0</td>\n",
       "    </tr>\n",
       "    <tr>\n",
       "      <th>4037322</th>\n",
       "      <td>11335312</td>\n",
       "      <td>61443</td>\n",
       "      <td>2979</td>\n",
       "      <td>0.0</td>\n",
       "    </tr>\n",
       "    <tr>\n",
       "      <th>7780857</th>\n",
       "      <td>21039866</td>\n",
       "      <td>61443</td>\n",
       "      <td>92</td>\n",
       "      <td>98.0</td>\n",
       "    </tr>\n",
       "    <tr>\n",
       "      <th>672465</th>\n",
       "      <td>1736073</td>\n",
       "      <td>61441</td>\n",
       "      <td>577</td>\n",
       "      <td>0.0</td>\n",
       "    </tr>\n",
       "    <tr>\n",
       "      <th>27872541</th>\n",
       "      <td>73765378</td>\n",
       "      <td>61443</td>\n",
       "      <td>2979</td>\n",
       "      <td>0.0</td>\n",
       "    </tr>\n",
       "    <tr>\n",
       "      <th>37165348</th>\n",
       "      <td>100473341</td>\n",
       "      <td>61441</td>\n",
       "      <td>1439</td>\n",
       "      <td>0.0</td>\n",
       "    </tr>\n",
       "  </tbody>\n",
       "</table>\n",
       "</div>"
      ],
      "text/plain": [
       "          Unnamed: 0    pgn   spn  decodedValue\n",
       "15327501    41235569  65266    51          90.0\n",
       "18129761    48487390  61443   559           1.0\n",
       "35930507    96488803  65247   515        5125.0\n",
       "1904430      5859064  61443  5398           6.0\n",
       "8765723     23595728  61444  4154           0.0\n",
       "4037322     11335312  61443  2979           0.0\n",
       "7780857     21039866  61443    92          98.0\n",
       "672465       1736073  61441   577           0.0\n",
       "27872541    73765378  61443  2979           0.0\n",
       "37165348   100473341  61441  1439           0.0"
      ]
     },
     "execution_count": 5,
     "metadata": {},
     "output_type": "execute_result"
    }
   ],
   "source": [
    "df.head(10)"
   ]
  },
  {
   "cell_type": "code",
   "execution_count": 6,
   "metadata": {},
   "outputs": [],
   "source": [
    "df.sort_index(inplace=True)"
   ]
  },
  {
   "cell_type": "code",
   "execution_count": 7,
   "metadata": {},
   "outputs": [
    {
     "data": {
      "text/plain": [
       "'\\nfor i, rows in df1.iterrows:\\n    x = rand.random()\\n    if(x <= 0.1):\\n        df.append(rows)\\n'"
      ]
     },
     "execution_count": 7,
     "metadata": {},
     "output_type": "execute_result"
    }
   ],
   "source": [
    "'''\n",
    "for i, rows in df1.iterrows:\n",
    "    x = rand.random()\n",
    "    if(x <= 0.1):\n",
    "        df.append(rows)\n",
    "'''"
   ]
  },
  {
   "cell_type": "code",
   "execution_count": 8,
   "metadata": {},
   "outputs": [
    {
     "data": {
      "text/html": [
       "<div>\n",
       "<style scoped>\n",
       "    .dataframe tbody tr th:only-of-type {\n",
       "        vertical-align: middle;\n",
       "    }\n",
       "\n",
       "    .dataframe tbody tr th {\n",
       "        vertical-align: top;\n",
       "    }\n",
       "\n",
       "    .dataframe thead th {\n",
       "        text-align: right;\n",
       "    }\n",
       "</style>\n",
       "<table border=\"1\" class=\"dataframe\">\n",
       "  <thead>\n",
       "    <tr style=\"text-align: right;\">\n",
       "      <th></th>\n",
       "      <th>Unnamed: 0</th>\n",
       "      <th>pgn</th>\n",
       "      <th>spn</th>\n",
       "      <th>decodedValue</th>\n",
       "    </tr>\n",
       "  </thead>\n",
       "  <tbody>\n",
       "    <tr>\n",
       "      <th>11</th>\n",
       "      <td>22</td>\n",
       "      <td>65247</td>\n",
       "      <td>3239</td>\n",
       "      <td>1.0</td>\n",
       "    </tr>\n",
       "    <tr>\n",
       "      <th>37</th>\n",
       "      <td>131</td>\n",
       "      <td>61443</td>\n",
       "      <td>2979</td>\n",
       "      <td>0.0</td>\n",
       "    </tr>\n",
       "    <tr>\n",
       "      <th>56</th>\n",
       "      <td>165</td>\n",
       "      <td>64914</td>\n",
       "      <td>6385</td>\n",
       "      <td>0.0</td>\n",
       "    </tr>\n",
       "    <tr>\n",
       "      <th>77</th>\n",
       "      <td>235</td>\n",
       "      <td>61443</td>\n",
       "      <td>1437</td>\n",
       "      <td>0.0</td>\n",
       "    </tr>\n",
       "    <tr>\n",
       "      <th>86</th>\n",
       "      <td>271</td>\n",
       "      <td>61444</td>\n",
       "      <td>513</td>\n",
       "      <td>43.0</td>\n",
       "    </tr>\n",
       "  </tbody>\n",
       "</table>\n",
       "</div>"
      ],
      "text/plain": [
       "    Unnamed: 0    pgn   spn  decodedValue\n",
       "11          22  65247  3239           1.0\n",
       "37         131  61443  2979           0.0\n",
       "56         165  64914  6385           0.0\n",
       "77         235  61443  1437           0.0\n",
       "86         271  61444   513          43.0"
      ]
     },
     "execution_count": 8,
     "metadata": {},
     "output_type": "execute_result"
    }
   ],
   "source": [
    "df.head()"
   ]
  },
  {
   "cell_type": "code",
   "execution_count": 9,
   "metadata": {},
   "outputs": [
    {
     "data": {
      "text/plain": [
       "(3766170, 4)"
      ]
     },
     "execution_count": 9,
     "metadata": {},
     "output_type": "execute_result"
    }
   ],
   "source": [
    "df.shape[0]"
   ]
  },
  {
   "cell_type": "code",
   "execution_count": 11,
   "metadata": {},
   "outputs": [
    {
     "name": "stderr",
     "output_type": "stream",
     "text": [
      "2023-09-28 21:50:29,836 : MainThread : INFO : epoch: 0\n",
      "2023-09-28 21:50:49,613 : MainThread : INFO : epoch: 1\n",
      "2023-09-28 21:51:08,831 : MainThread : INFO : epoch: 2\n",
      "2023-09-28 21:51:28,035 : MainThread : INFO : epoch: 3\n",
      "2023-09-28 21:51:47,134 : MainThread : INFO : epoch: 4\n",
      "2023-09-28 21:52:06,068 : MainThread : INFO : epoch: 5\n",
      "2023-09-28 21:52:29,665 : MainThread : INFO : epoch: 6\n",
      "2023-09-28 21:53:09,800 : MainThread : INFO : epoch: 7\n",
      "2023-09-28 21:53:30,918 : MainThread : INFO : epoch: 8\n",
      "2023-09-28 21:53:53,207 : MainThread : INFO : epoch: 9\n",
      "2023-09-28 21:54:31,666 : MainThread : INFO : epoch: 10\n",
      "2023-09-28 21:55:06,532 : MainThread : INFO : epoch: 11\n",
      "2023-09-28 21:55:26,656 : MainThread : INFO : epoch: 12\n",
      "2023-09-28 21:55:46,342 : MainThread : INFO : epoch: 13\n",
      "2023-09-28 21:56:05,833 : MainThread : INFO : epoch: 14\n",
      "2023-09-28 21:56:25,245 : MainThread : INFO : epoch: 15\n",
      "2023-09-28 21:56:44,592 : MainThread : INFO : epoch: 16\n",
      "2023-09-28 21:57:03,850 : MainThread : INFO : epoch: 17\n",
      "2023-09-28 21:57:23,016 : MainThread : INFO : epoch: 18\n",
      "2023-09-28 21:57:42,250 : MainThread : INFO : epoch: 19\n",
      "2023-09-28 21:58:01,353 : MainThread : INFO : epoch: 20\n",
      "2023-09-28 21:58:20,673 : MainThread : INFO : epoch: 21\n",
      "2023-09-28 21:58:39,786 : MainThread : INFO : epoch: 22\n",
      "2023-09-28 21:59:02,091 : MainThread : INFO : epoch: 23\n",
      "2023-09-28 21:59:41,069 : MainThread : INFO : epoch: 24\n",
      "2023-09-28 22:00:19,401 : MainThread : INFO : epoch: 25\n",
      "2023-09-28 22:00:46,478 : MainThread : INFO : epoch: 26\n",
      "2023-09-28 22:01:06,538 : MainThread : INFO : epoch: 27\n",
      "2023-09-28 22:01:26,395 : MainThread : INFO : epoch: 28\n",
      "2023-09-28 22:01:45,924 : MainThread : INFO : epoch: 29\n",
      "2023-09-28 22:02:05,407 : MainThread : INFO : epoch: 30\n",
      "2023-09-28 22:02:24,621 : MainThread : INFO : epoch: 31\n",
      "2023-09-28 22:02:44,022 : MainThread : INFO : epoch: 32\n",
      "2023-09-28 22:03:03,302 : MainThread : INFO : epoch: 33\n",
      "2023-09-28 22:03:22,834 : MainThread : INFO : epoch: 34\n",
      "2023-09-28 22:03:42,113 : MainThread : INFO : epoch: 35\n",
      "2023-09-28 22:04:01,112 : MainThread : INFO : epoch: 36\n",
      "2023-09-28 22:04:19,984 : MainThread : INFO : epoch: 37\n",
      "2023-09-28 22:04:39,478 : MainThread : INFO : epoch: 38\n",
      "2023-09-28 22:04:59,706 : MainThread : INFO : epoch: 39\n",
      "2023-09-28 22:05:19,314 : MainThread : INFO : epoch: 40\n",
      "2023-09-28 22:05:38,363 : MainThread : INFO : epoch: 41\n",
      "2023-09-28 22:05:57,207 : MainThread : INFO : epoch: 42\n",
      "2023-09-28 22:06:17,274 : MainThread : INFO : epoch: 43\n",
      "2023-09-28 22:06:37,541 : MainThread : INFO : epoch: 44\n",
      "2023-09-28 22:06:58,077 : MainThread : INFO : epoch: 45\n",
      "2023-09-28 22:07:17,557 : MainThread : INFO : epoch: 46\n",
      "2023-09-28 22:07:37,286 : MainThread : INFO : epoch: 47\n",
      "2023-09-28 22:07:56,493 : MainThread : INFO : epoch: 48\n",
      "2023-09-28 22:08:15,661 : MainThread : INFO : epoch: 49\n",
      "2023-09-28 22:08:34,709 : MainThread : INFO : epoch: 50\n",
      "2023-09-28 22:08:53,732 : MainThread : INFO : epoch: 51\n",
      "2023-09-28 22:09:12,602 : MainThread : INFO : epoch: 52\n",
      "2023-09-28 22:09:31,768 : MainThread : INFO : epoch: 53\n",
      "2023-09-28 22:09:50,957 : MainThread : INFO : epoch: 54\n",
      "2023-09-28 22:10:10,277 : MainThread : INFO : epoch: 55\n",
      "2023-09-28 22:10:29,440 : MainThread : INFO : epoch: 56\n",
      "2023-09-28 22:10:51,297 : MainThread : INFO : epoch: 57\n",
      "2023-09-28 22:11:14,867 : MainThread : INFO : epoch: 58\n",
      "2023-09-28 22:11:38,233 : MainThread : INFO : epoch: 59\n",
      "2023-09-28 22:12:01,968 : MainThread : INFO : epoch: 60\n",
      "2023-09-28 22:12:25,625 : MainThread : INFO : epoch: 61\n",
      "2023-09-28 22:12:49,099 : MainThread : INFO : epoch: 62\n",
      "2023-09-28 22:13:12,212 : MainThread : INFO : epoch: 63\n",
      "2023-09-28 22:13:35,193 : MainThread : INFO : epoch: 64\n",
      "2023-09-28 22:13:58,200 : MainThread : INFO : epoch: 65\n",
      "2023-09-28 22:14:21,291 : MainThread : INFO : epoch: 66\n",
      "2023-09-28 22:14:44,311 : MainThread : INFO : epoch: 67\n",
      "2023-09-28 22:15:07,702 : MainThread : INFO : epoch: 68\n",
      "2023-09-28 22:15:31,476 : MainThread : INFO : epoch: 69\n",
      "2023-09-28 22:15:54,393 : MainThread : INFO : epoch: 70\n",
      "2023-09-28 22:16:17,625 : MainThread : INFO : epoch: 71\n",
      "2023-09-28 22:16:41,316 : MainThread : INFO : epoch: 72\n",
      "2023-09-28 22:17:04,727 : MainThread : INFO : epoch: 73\n",
      "2023-09-28 22:17:28,288 : MainThread : INFO : epoch: 74\n",
      "2023-09-28 22:17:51,485 : MainThread : INFO : epoch: 75\n",
      "2023-09-28 22:18:17,758 : MainThread : INFO : epoch: 76\n",
      "2023-09-28 22:18:36,808 : MainThread : INFO : epoch: 77\n",
      "2023-09-28 22:18:55,871 : MainThread : INFO : epoch: 78\n",
      "2023-09-28 22:19:14,865 : MainThread : INFO : epoch: 79\n",
      "2023-09-28 22:19:33,793 : MainThread : INFO : epoch: 80\n",
      "2023-09-28 22:19:52,775 : MainThread : INFO : epoch: 81\n",
      "2023-09-28 22:20:11,767 : MainThread : INFO : epoch: 82\n",
      "2023-09-28 22:20:30,680 : MainThread : INFO : epoch: 83\n",
      "2023-09-28 22:20:49,790 : MainThread : INFO : epoch: 84\n",
      "2023-09-28 22:21:08,623 : MainThread : INFO : epoch: 85\n",
      "2023-09-28 22:21:27,624 : MainThread : INFO : epoch: 86\n",
      "2023-09-28 22:21:46,681 : MainThread : INFO : epoch: 87\n",
      "2023-09-28 22:22:05,751 : MainThread : INFO : epoch: 88\n",
      "2023-09-28 22:22:25,078 : MainThread : INFO : epoch: 89\n",
      "2023-09-28 22:22:44,047 : MainThread : INFO : epoch: 90\n",
      "2023-09-28 22:23:03,079 : MainThread : INFO : epoch: 91\n",
      "2023-09-28 22:23:22,115 : MainThread : INFO : epoch: 92\n",
      "2023-09-28 22:23:41,157 : MainThread : INFO : epoch: 93\n",
      "2023-09-28 22:24:00,364 : MainThread : INFO : epoch: 94\n",
      "2023-09-28 22:24:19,339 : MainThread : INFO : epoch: 95\n",
      "2023-09-28 22:24:38,347 : MainThread : INFO : epoch: 96\n",
      "2023-09-28 22:24:57,447 : MainThread : INFO : epoch: 97\n",
      "2023-09-28 22:25:16,271 : MainThread : INFO : epoch: 98\n",
      "2023-09-28 22:25:35,047 : MainThread : INFO : epoch: 99\n"
     ]
    },
    {
     "data": {
      "text/html": [
       "<div>\n",
       "<style scoped>\n",
       "    .dataframe tbody tr th:only-of-type {\n",
       "        vertical-align: middle;\n",
       "    }\n",
       "\n",
       "    .dataframe tbody tr th {\n",
       "        vertical-align: top;\n",
       "    }\n",
       "\n",
       "    .dataframe thead th {\n",
       "        text-align: right;\n",
       "    }\n",
       "</style>\n",
       "<table border=\"1\" class=\"dataframe\">\n",
       "  <thead>\n",
       "    <tr style=\"text-align: right;\">\n",
       "      <th></th>\n",
       "      <th>Unnamed: 0</th>\n",
       "      <th>pgn</th>\n",
       "      <th>spn</th>\n",
       "      <th>decodedValue</th>\n",
       "    </tr>\n",
       "  </thead>\n",
       "  <tbody>\n",
       "    <tr>\n",
       "      <th>0</th>\n",
       "      <td>142502720.0</td>\n",
       "      <td>60183200</td>\n",
       "      <td>60118248</td>\n",
       "      <td>1.639173e+12</td>\n",
       "    </tr>\n",
       "    <tr>\n",
       "      <th>1</th>\n",
       "      <td>143290320.0</td>\n",
       "      <td>59376312</td>\n",
       "      <td>59328352</td>\n",
       "      <td>1.872252e+12</td>\n",
       "    </tr>\n",
       "    <tr>\n",
       "      <th>2</th>\n",
       "      <td>142325472.0</td>\n",
       "      <td>64242296</td>\n",
       "      <td>64151816</td>\n",
       "      <td>1.862925e+12</td>\n",
       "    </tr>\n",
       "    <tr>\n",
       "      <th>3</th>\n",
       "      <td>128855008.0</td>\n",
       "      <td>59324736</td>\n",
       "      <td>59297568</td>\n",
       "      <td>1.699213e+12</td>\n",
       "    </tr>\n",
       "    <tr>\n",
       "      <th>4</th>\n",
       "      <td>128190208.0</td>\n",
       "      <td>57137632</td>\n",
       "      <td>57107632</td>\n",
       "      <td>1.869071e+12</td>\n",
       "    </tr>\n",
       "    <tr>\n",
       "      <th>...</th>\n",
       "      <td>...</td>\n",
       "      <td>...</td>\n",
       "      <td>...</td>\n",
       "      <td>...</td>\n",
       "    </tr>\n",
       "    <tr>\n",
       "      <th>37661700</th>\n",
       "      <td>148526896.0</td>\n",
       "      <td>58348400</td>\n",
       "      <td>58171616</td>\n",
       "      <td>1.721591e+12</td>\n",
       "    </tr>\n",
       "    <tr>\n",
       "      <th>37661701</th>\n",
       "      <td>144833712.0</td>\n",
       "      <td>58654664</td>\n",
       "      <td>58580800</td>\n",
       "      <td>1.782559e+12</td>\n",
       "    </tr>\n",
       "    <tr>\n",
       "      <th>37661702</th>\n",
       "      <td>122393272.0</td>\n",
       "      <td>59984216</td>\n",
       "      <td>59954704</td>\n",
       "      <td>1.781583e+12</td>\n",
       "    </tr>\n",
       "    <tr>\n",
       "      <th>37661703</th>\n",
       "      <td>147463536.0</td>\n",
       "      <td>59136520</td>\n",
       "      <td>59005472</td>\n",
       "      <td>1.873125e+12</td>\n",
       "    </tr>\n",
       "    <tr>\n",
       "      <th>37661704</th>\n",
       "      <td>141029584.0</td>\n",
       "      <td>58700560</td>\n",
       "      <td>58614160</td>\n",
       "      <td>1.874837e+12</td>\n",
       "    </tr>\n",
       "  </tbody>\n",
       "</table>\n",
       "<p>37661705 rows × 4 columns</p>\n",
       "</div>"
      ],
      "text/plain": [
       "           Unnamed: 0       pgn       spn  decodedValue\n",
       "0         142502720.0  60183200  60118248  1.639173e+12\n",
       "1         143290320.0  59376312  59328352  1.872252e+12\n",
       "2         142325472.0  64242296  64151816  1.862925e+12\n",
       "3         128855008.0  59324736  59297568  1.699213e+12\n",
       "4         128190208.0  57137632  57107632  1.869071e+12\n",
       "...               ...       ...       ...           ...\n",
       "37661700  148526896.0  58348400  58171616  1.721591e+12\n",
       "37661701  144833712.0  58654664  58580800  1.782559e+12\n",
       "37661702  122393272.0  59984216  59954704  1.781583e+12\n",
       "37661703  147463536.0  59136520  59005472  1.873125e+12\n",
       "37661704  141029584.0  58700560  58614160  1.874837e+12\n",
       "\n",
       "[37661705 rows x 4 columns]"
      ]
     },
     "execution_count": 11,
     "metadata": {},
     "output_type": "execute_result"
    }
   ],
   "source": [
    "model = DGAN(DGANConfig(\n",
    "    max_sequence_len=3,\n",
    "    sample_len=1,\n",
    "    batch_size=100000,\n",
    "    epochs=100,  # For real data sets, 100-1000 epochs is typical\n",
    "))\n",
    "\n",
    "model.train_dataframe(\n",
    "    df,\n",
    "    attribute_columns=['61441-521', '61441-973', '61443-91', '61443-92', '61443-974', '61443-29', '61443-3357', '61443-5398', '61444-4154', '61444-512', '61444-513', '61444-190', '61444-2432', '61450-2659', '61450-132', '61450-5257', '64817-1550', '64817-1598', '65213-975', '65213-1639', '65247-514', '65247-515', '65247-2978', '65262-110', '65262-174', '65262-175', '65262-176', '65262-52', '65263-94', '65263-22', '65263-98', '65263-100', '65263-101', '65263-109', '65263-111', '65266-183', '65266-184', '65266-185', '65266-51', '65266-3673'],\n",
    ")\n",
    "\n",
    "# Generate synthetic data\n",
    "synthetic_df = model.generate_dataframe(37661705)\n",
    "\n",
    "synthetic_df"
   ]
  },
  {
   "cell_type": "code",
   "execution_count": 12,
   "metadata": {},
   "outputs": [],
   "source": [
    "synthetic_df.to_csv('synthetic.csv')"
   ]
  },
  {
   "cell_type": "code",
   "execution_count": 16,
   "metadata": {},
   "outputs": [],
   "source": [
    "import matplotlib.pyplot as plt"
   ]
  },
  {
   "cell_type": "code",
   "execution_count": 18,
   "metadata": {},
   "outputs": [],
   "source": [
    "def moving_avg(x, N=30):\n",
    "    return np.convolve(x, np.ones((N,))/N, mode='valid')"
   ]
  },
  {
   "cell_type": "code",
   "execution_count": 27,
   "metadata": {},
   "outputs": [
    {
     "data": {
      "image/png": "[encoded data removed]",
      "text/plain": [
       "<Figure size 640x480 with 1 Axes>"
      ]
     },
     "metadata": {},
     "output_type": "display_data"
    }
   ],
   "source": [
    "plt.plot(df1['decodedValue'], linewidth = 1, alpha = 0.5, label = 'linewidth = 1')\n",
    "plt.plot(moving_avg(df1['decodedValue'], 10), 'C0', label = 'moving average, N = 10')\n",
    "plt.xlim(0,len(df1['decodedValue']))\n",
    "plt.legend()\n",
    "plt.show()"
   ]
  },
  {
   "cell_type": "code",
   "execution_count": 26,
   "metadata": {},
   "outputs": [
    {
     "data": {
      "image/png": "[encoded data removed]",
      "text/plain": [
       "<Figure size 640x480 with 1 Axes>"
      ]
     },
     "metadata": {},
     "output_type": "display_data"
    }
   ],
   "source": [
    "plt.plot(synthetic_df['decodedValue'], linewidth = 1, alpha = 0.5, label = 'linewidth = 1')\n",
    "plt.plot(moving_avg(synthetic_df['decodedValue'], 10), 'C0', label = 'moving average, N = 10')\n",
    "plt.xlim(0,len(synthetic_df['decodedValue']))\n",
    "plt.legend()\n",
    "\n",
    "plt.show()"
   ]
  },
  {
   "cell_type": "code",
   "execution_count": 28,
   "metadata": {},
   "outputs": [
    {
     "data": {
      "image/png": "[encoded data removed]",
      "text/plain": [
       "<Figure size 640x480 with 1 Axes>"
      ]
     },
     "metadata": {},
     "output_type": "display_data"
    }
   ],
   "source": [
    "\n",
    "w = 1000\n",
    "v1 = synthetic_df['decodedValue'].rolling(min_periods=1, window=w).sum()[[i*w for i in range(1, int(len(synthetic_df)/w))]]/w\n",
    "v2 = df1['decodedValue'].rolling(min_periods=1, window=w).sum()[[i*w for i in range(1, int(len(df1)/w))]]/w\n",
    "plt.plot(np.arange(len(v1)),v1, c='b')\n",
    "plt.plot(np.arange(len(v1)),v2, c='r')\n",
    "plt.show()"
   ]
  }
 ],
 "metadata": {
  "kernelspec": {
   "display_name": "Python 3",
   "language": "python",
   "name": "python3"
  },
  "language_info": {
   "codemirror_mode": {
    "name": "ipython",
    "version": 3
   },
   "file_extension": ".py",
   "mimetype": "text/x-python",
   "name": "python",
   "nbconvert_exporter": "python",
   "pygments_lexer": "ipython3",
   "version": "3.8.10"
  },
  "orig_nbformat": 4
 },
 "nbformat": 4,
 "nbformat_minor": 2
}
