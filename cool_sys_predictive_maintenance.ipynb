{
 "cells": [
  {
   "cell_type": "code",
   "execution_count": null,
   "metadata": {},
   "outputs": [],
   "source": [
    "import numpy as np\n",
    "import pandas as pd\n",
    "import random as rand\n",
    "import matplotlib.pyplot as plt\n",
    "import random\n",
    "import tslearn"
   ]
  },
  {
   "cell_type": "code",
   "execution_count": null,
   "metadata": {},
   "outputs": [],
   "source": [
    "tpath = r'C:\\Users\\virag\\Documents\\GitHub\\Predictive-Maintenance\\cool_tests'\n",
    "path = r'C:\\Users\\virag\\Documents\\GitHub\\Predictive-Maintenance\\Final_cooling_sys_data'"
   ]
  },
  {
   "cell_type": "code",
   "execution_count": null,
   "metadata": {},
   "outputs": [],
   "source": [
    "dsets = []\n",
    "for i in range(39):\n",
    "    dsets.append(pd.read_csv(path + '\\\\Final_cooling_sys_data/final_cooling_dset_' + str(i)+'.csv'))\n",
    "for i in range(8):\n",
    "    dsets.append(pd.read_csv(path + '\\\\Final_cooling_sys_data/faulty_cooling_dset_' + str(i)+'.csv'))"
   ]
  },
  {
   "cell_type": "markdown",
   "metadata": {},
   "source": [
    "New"
   ]
  },
  {
   "cell_type": "code",
   "execution_count": null,
   "metadata": {},
   "outputs": [],
   "source": []
  }
 ],
 "metadata": {
  "language_info": {
   "name": "python"
  }
 },
 "nbformat": 4,
 "nbformat_minor": 2
}
